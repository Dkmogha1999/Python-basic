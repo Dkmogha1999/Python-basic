{
  "nbformat": 4,
  "nbformat_minor": 0,
  "metadata": {
    "colab": {
      "provenance": []
    },
    "kernelspec": {
      "name": "python3",
      "display_name": "Python 3"
    },
    "language_info": {
      "name": "python"
    }
  },
  "cells": [
    {
      "cell_type": "markdown",
      "source": [],
      "metadata": {
        "id": "X3MxFo4gch-k"
      }
    },
    {
      "cell_type": "code",
      "source": [],
      "metadata": {
        "id": "o3HlsqctcwPV"
      },
      "execution_count": null,
      "outputs": []
    },
    {
      "cell_type": "markdown",
      "source": [
        "1. What is Python, and why is it popular?\n",
        "- Python is a high-level, interpreted programming language that is widely recognized for its simple syntax, readability, and flexibility. Its straightforward design makes it ideal for beginners, while its powerful capabilities cater to professionals. Python's popularity stems from its ease of use, extensive libraries, and adaptability across various domains, including data science and machine learning, making it a preferred language for many developers.\n",
        "\n",
        "2. What is an interpreter in Python?\n",
        "- An interpreter in Python is a program that executes code line by line, translating it into actions immediately. Unlike compiled languages that first convert code into machine language entirely, Python's interpreter processes the code on the go, enabling dynamic execution.\n",
        "3. What are pre-defined keywords in Python?\n",
        "- Pre-defined keywords in Python are special reserved words that are essential for the language's syntax and structure. They have specific meanings and functions in the language, so they cannot be used as identifiers like variable or function names.\n",
        "4. Can keywords be used as variable names?\n",
        "- No, keywords in Python cannot be used as variable names. Since these reserved words are crucial for defining the language's syntax, reassigning them as variables would lead to errors and conflicts in the program.\n",
        "5. What is mutability in Python?\n",
        "- Mutability refers to whether an object in Python can be modified after it is created. Mutable objects can be changed, while immutable objects remain constant once they are initialized.\n",
        "6. Why are lists mutable, but tuples are immutable?\n",
        "- Lists are mutable because they are designed to accommodate dynamic collections, allowing elements to be added, removed, or modified. In contrast, tuples are immutable to ensure stability and integrity, making them ideal for representing fixed, unchangeable collections of data.\n",
        "7. What is the difference between == and is operators in Python?\n",
        "-  ==: Compares the values of two objects and checks if they are equal.\n",
        "\n",
        "- is: Checks if two objects refer to the same memory location (identity comparison).\n",
        "8.  What are logical operators in Python?\n",
        "- Logical operators are used to combine or modify conditional statements. They evaluate expressions and return a Boolean value (True or False). Python includes three logical operators:\n",
        "\n",
        "- and: Returns True if both conditions are true.\n",
        "- or: Returns True if at least one condition is true.\n",
        "- not: Reverses the Boolean value of a condition.\n",
        "9. What is type casting in Python?\n",
        "- Type casting is the process of converting a variable from one data type to another. It ensures compatibility between different data types during operations. Python supports two types of type casting:\n",
        "\n",
        "- Implicit Type Casting: Automatically performed by Python when safe (e.g., converting an int to a float).\n",
        "- Explicit Type Casting: Manually performed by the programmer using functions like int(), float(), or str().\n",
        "10. What is the difference between implicit and explicit type casting?\n",
        "- Implicit Type Casting: Automatically performed by Python without programmer intervention. It occurs when the conversion is safe and does not risk data loss (e.g., int to float).\n",
        "- Explicit Type Casting: Requires the programmer to manually convert data types using functions like int() or str(). This method is less safe as it may lead to data loss or errors if not done carefully.\n",
        "11. What is the purpose of conditional statements in Python?\n",
        "- Conditional statements control the flow of a program based on specific conditions. They allow you to make decisions, execute different blocks of code based on conditions, and respond dynamically to varying scenarios in your program.\n",
        "12. How does the elif statement work?\n",
        "- The elif statement is used to check multiple conditions in sequence. It follows an if statement and is only executed if the previous conditions are False. Once a condition is satisfied, its corresponding block is executed, and the rest are skipped. This approach simplifies decision-making without needing multiple nested if statements.\n",
        "13. What is the difference between for and while loops?\n",
        "- for loop: Used for iterating over a sequence (e.g., a list, string, or range) with a fixed number of iterations.\n",
        "- while loop: Suitable for situations where the number of iterations is unknown, as it continues executing until a specified condition becomes False.\n",
        "14. Describe a scenario where a while loop is more suitable than a for loop.\n",
        "- A while loop is preferable when the number of iterations is not predetermined and depends on dynamic conditions.\n",
        "Example: Waiting for valid user input. You can repeatedly prompt the user until they enter a valid response, as the number of attempts cannot be known beforehand.\n",
        "\n",
        "\n",
        "\n",
        "\n",
        "\n",
        "\n"
      ],
      "metadata": {
        "id": "T9RYngNwcoYc"
      }
    },
    {
      "cell_type": "code",
      "source": [
        "#Write a Python program to print \"Hello, World!\n",
        "print (\"hello, world!\")"
      ],
      "metadata": {
        "colab": {
          "base_uri": "https://localhost:8080/"
        },
        "id": "PtKwWNPSfNxU",
        "outputId": "7fba246a-d19a-410f-f31b-0e25b11c0f74"
      },
      "execution_count": 3,
      "outputs": [
        {
          "output_type": "stream",
          "name": "stdout",
          "text": [
            "hello, world!\n"
          ]
        }
      ]
    },
    {
      "cell_type": "code",
      "source": [
        "#Write a Python program that displays your name and age\n",
        "name = \"Dikshant\"\n",
        "age = 25\n",
        "print(\"Name:\", name)\n",
        "print(\"Age:\", age)"
      ],
      "metadata": {
        "colab": {
          "base_uri": "https://localhost:8080/"
        },
        "id": "sq4qaiKBfWwR",
        "outputId": "55f9b17a-6118-4da2-de75-5b9dd31a5e5e"
      },
      "execution_count": 17,
      "outputs": [
        {
          "output_type": "stream",
          "name": "stdout",
          "text": [
            "Name: Dikshant\n",
            "Age: 25\n"
          ]
        }
      ]
    },
    {
      "cell_type": "code",
      "source": [
        "#Write code to print all the pre-defined keywords in Python using the keyword library\n",
        "import keyword\n",
        "print(\"pythonkeywords:\", keyword.kwlist)"
      ],
      "metadata": {
        "colab": {
          "base_uri": "https://localhost:8080/"
        },
        "id": "gzst9l1-iMBO",
        "outputId": "ebd4e142-1d10-4286-da2e-9408a057f13f"
      },
      "execution_count": 18,
      "outputs": [
        {
          "output_type": "stream",
          "name": "stdout",
          "text": [
            "pythonkeywords: ['False', 'None', 'True', 'and', 'as', 'assert', 'async', 'await', 'break', 'class', 'continue', 'def', 'del', 'elif', 'else', 'except', 'finally', 'for', 'from', 'global', 'if', 'import', 'in', 'is', 'lambda', 'nonlocal', 'not', 'or', 'pass', 'raise', 'return', 'try', 'while', 'with', 'yield']\n"
          ]
        }
      ]
    },
    {
      "cell_type": "code",
      "source": [
        "#Write a program that checks if a given word is a Python keyword\n",
        "import keyword\n",
        "def is_python_keyword(word):\n",
        "    return word in keyword.kwlist\n",
        "word = input(\"Enter a word to check if it's a Python keyword: \")\n",
        "if is_python_keyword(word):\n",
        "    print(f\"'{word}' is a Python keyword.\")\n",
        "else:\n",
        "    print(f\"'{word}' is not a Python keyword.\")"
      ],
      "metadata": {
        "colab": {
          "base_uri": "https://localhost:8080/"
        },
        "id": "ZkB6gpyGiwEJ",
        "outputId": "18dd126a-92ad-4b5a-95c7-ddf85a31e19f"
      },
      "execution_count": 19,
      "outputs": [
        {
          "output_type": "stream",
          "name": "stdout",
          "text": [
            "Enter a word to check if it's a Python keyword: true\n",
            "'true' is not a Python keyword.\n"
          ]
        }
      ]
    },
    {
      "cell_type": "code",
      "source": [
        "#Create a list and tuple in Python, and demonstrate how attempting to change an element works differently\n",
        "#for each\n",
        "my_list = [1, 2, 3, 4, 5]\n",
        "# Changing an element of the list (mutability)\n",
        "print(\"Original list:\", my_list)\n",
        "my_list[2] = 55  # Changing the element at index 2\n",
        "print(\"Updated list:\", my_list)\n",
        "# Create a tuple\n",
        "my_tuple = (1, 2, 3, 4, 5)\n",
        "# Trying to change an element of the tuple (will raise an error)\n",
        "print(\"Original tuple:\", my_tuple)\n",
        "try:\n",
        "    my_tuple[2] = 99  # Attempt to change the element at index 2\n",
        "except TypeError as e:\n",
        "    print(\"Error:\", e)  # This will print the error message"
      ],
      "metadata": {
        "colab": {
          "base_uri": "https://localhost:8080/"
        },
        "id": "1drvHwQgjogi",
        "outputId": "3af49581-bd59-4df9-a453-eefe83d96940"
      },
      "execution_count": 21,
      "outputs": [
        {
          "output_type": "stream",
          "name": "stdout",
          "text": [
            "Original list: [1, 2, 3, 4, 5]\n",
            "Updated list: [1, 2, 55, 4, 5]\n",
            "Original tuple: (1, 2, 3, 4, 5)\n",
            "Error: 'tuple' object does not support item assignment\n"
          ]
        }
      ]
    },
    {
      "cell_type": "code",
      "source": [
        "#Write a function to demonstrate the behavior of mutable and immutable arguments\n",
        "def demonstrate_mutability(immutable_arg, mutable_arg):\n",
        "    print(f\"Before modification:\")\n",
        "    print(f\"Immutable argument (integer): {immutable_arg}\")\n",
        "    print(f\"Mutable argument (list): {mutable_arg}\")\n",
        "\n",
        "    # Modify the immutable argument (this won't affect the original)\n",
        "    immutable_arg += 10\n",
        "    # Modify the mutable argument (this will affect the original)\n",
        "    mutable_arg.append(4)\n",
        "\n",
        "    print(f\"\\nAfter modification:\")\n",
        "    print(f\"Immutable argument (integer): {immutable_arg}\")  # This change is local to the function\n",
        "    print(f\"Mutable argument (list): {mutable_arg}\")  # This change will affect the original list\n",
        "\n",
        "\n",
        "# Example usage\n",
        "immutable_example = 5\n",
        "mutable_example = [1, 2, 3]\n",
        "\n",
        "demonstrate_mutability(immutable_example, mutable_example)\n",
        "\n",
        "# Check outside the function\n",
        "print(f\"\\nOutside function:\")\n",
        "print(f\"Immutable argument (integer) after function call: {immutable_example}\")\n",
        "print(f\"Mutable argument (list) after function call: {mutable_example}\")"
      ],
      "metadata": {
        "colab": {
          "base_uri": "https://localhost:8080/"
        },
        "id": "eKcGvckMkbvE",
        "outputId": "a17dc7a0-b7a3-4551-94d2-08547c42ddf3"
      },
      "execution_count": 22,
      "outputs": [
        {
          "output_type": "stream",
          "name": "stdout",
          "text": [
            "Before modification:\n",
            "Immutable argument (integer): 5\n",
            "Mutable argument (list): [1, 2, 3]\n",
            "\n",
            "After modification:\n",
            "Immutable argument (integer): 15\n",
            "Mutable argument (list): [1, 2, 3, 4]\n",
            "\n",
            "Outside function:\n",
            "Immutable argument (integer) after function call: 5\n",
            "Mutable argument (list) after function call: [1, 2, 3, 4]\n"
          ]
        }
      ]
    },
    {
      "cell_type": "code",
      "source": [
        "#Write a program to demonstrate the use of logical operators\n",
        "\n",
        "# Sample variables\n",
        "age = 25\n",
        "has_license = True\n",
        "is_student = False\n",
        "\n",
        "# Using logical 'and' (both conditions must be True)\n",
        "if age >= 18 and has_license:\n",
        "    print(\"You are eligible to drive.\")\n",
        "\n",
        "# Using logical 'or' (at least one condition must be True)\n",
        "if age < 18 or not has_license:\n",
        "    print(\"You are not eligible to drive.\")\n",
        "\n",
        "# Using logical 'not' (inverts the condition)\n",
        "if not is_student:\n",
        "    print(\"You are not a student.\")\n",
        "\n",
        "# Combine 'and', 'or', and 'not'\n",
        "if (age >= 18 and has_license) or not is_student:\n",
        "    print(\"Either you're eligible to drive, or you're not a student.\")"
      ],
      "metadata": {
        "colab": {
          "base_uri": "https://localhost:8080/"
        },
        "id": "Hxndn_kvk2SQ",
        "outputId": "5888c823-c220-4029-8752-1502fdac0066"
      },
      "execution_count": 24,
      "outputs": [
        {
          "output_type": "stream",
          "name": "stdout",
          "text": [
            "You are eligible to drive.\n",
            "You are not a student.\n",
            "Either you're eligible to drive, or you're not a student.\n"
          ]
        }
      ]
    },
    {
      "cell_type": "code",
      "source": [],
      "metadata": {
        "id": "xPZ2EtTblG6f"
      },
      "execution_count": null,
      "outputs": []
    },
    {
      "cell_type": "code",
      "source": [
        "#Write a Python program to convert user input from string to integer, float, and boolean types\n",
        "# Get input from the user\n",
        "user_input = input(\"Enter a value: \")\n",
        "\n",
        "# Convert to integer (if possible)\n",
        "try:\n",
        "    int_value = int(user_input)\n",
        "    print(f\"Converted to integer: {int_value}\")\n",
        "except ValueError:\n",
        "    print(\"Cannot convert to integer.\")\n",
        "\n",
        "# Convert to float (if possible)\n",
        "try:\n",
        "    float_value = float(user_input)\n",
        "    print(f\"Converted to float: {float_value}\")\n",
        "except ValueError:\n",
        "    print(\"Cannot convert to float.\")\n",
        "\n",
        "# Convert to boolean (if possible)\n",
        "# In Python, an empty string, '0', or None is considered False.\n",
        "# Any other value is considered True.\n",
        "if user_input.strip().lower() == 'false' or user_input.strip() == '0' or user_input.strip() == '':\n",
        "    bool_value = False\n",
        "else:\n",
        "    bool_value = True\n",
        "\n",
        "print(f\"Converted to boolean: {bool_value}\")"
      ],
      "metadata": {
        "colab": {
          "base_uri": "https://localhost:8080/"
        },
        "id": "mVPt7p-ylQkg",
        "outputId": "b36dc3a9-3976-479f-8f90-8131191f86bc"
      },
      "execution_count": 25,
      "outputs": [
        {
          "output_type": "stream",
          "name": "stdout",
          "text": [
            "Enter a value: 5\n",
            "Converted to integer: 5\n",
            "Converted to float: 5.0\n",
            "Converted to boolean: True\n"
          ]
        }
      ]
    },
    {
      "cell_type": "code",
      "source": [
        "#Write a Python program to convert user input from string to integer, float, and boolean types\n",
        "# Get input from the user\n",
        "user_input = input(\"Enter a value: \")\n",
        "\n",
        "# Convert to integer (if possible)\n",
        "try:\n",
        "    int_value = int(user_input)\n",
        "    print(f\"Converted to integer: {int_value}\")\n",
        "except ValueError:\n",
        "    print(\"Cannot convert to integer.\")\n",
        "\n",
        "# Convert to float (if possible)\n",
        "try:\n",
        "    float_value = float(user_input)\n",
        "    print(f\"Converted to float: {float_value}\")\n",
        "except ValueError:\n",
        "    print(\"Cannot convert to float.\")\n",
        "\n",
        "# Convert to boolean (if possible)\n",
        "# In Python, an empty string, '0', or None is considered False.\n",
        "# Any other value is considered True.\n",
        "if user_input.strip().lower() == 'false' or user_input.strip() == '0' or user_input.strip() == '':\n",
        "    bool_value = False\n",
        "else:\n",
        "    bool_value = True\n",
        "\n",
        "print(f\"Converted to boolean: {bool_value}\")"
      ],
      "metadata": {
        "colab": {
          "base_uri": "https://localhost:8080/"
        },
        "id": "sle0-dEBlYMP",
        "outputId": "74a0fa80-27c3-47cb-b63c-bb86abef75ad"
      },
      "execution_count": 26,
      "outputs": [
        {
          "output_type": "stream",
          "name": "stdout",
          "text": [
            "Enter a value: 6\n",
            "Converted to integer: 6\n",
            "Converted to float: 6.0\n",
            "Converted to boolean: True\n"
          ]
        }
      ]
    },
    {
      "cell_type": "code",
      "source": [
        "#Write a program that checks if a number is positive, negative, or zero\n",
        "num = float(input(\"Enter a number: \"))\n",
        "if num > 0:\n",
        "    print(\"The number is positive.\")\n",
        "elif num < 0:\n",
        "    print(\"The number is negative.\")\n",
        "else:\n",
        "    print(\"The number is zero.\")"
      ],
      "metadata": {
        "colab": {
          "base_uri": "https://localhost:8080/"
        },
        "id": "JeKQcSe5lgNv",
        "outputId": "9fd51439-e863-4efe-88f1-bac4a272f5e1"
      },
      "execution_count": 27,
      "outputs": [
        {
          "output_type": "stream",
          "name": "stdout",
          "text": [
            "Enter a number: 6\n",
            "The number is positive.\n"
          ]
        }
      ]
    },
    {
      "cell_type": "code",
      "source": [
        "#Write a for loop to print numbers from 1 to 10\n",
        "for i in range(1, 11):\n",
        "    print(i)"
      ],
      "metadata": {
        "colab": {
          "base_uri": "https://localhost:8080/"
        },
        "id": "2suwni_Ellmx",
        "outputId": "37c8e76c-bc36-4c9e-d8a5-7b30ec2af831"
      },
      "execution_count": 28,
      "outputs": [
        {
          "output_type": "stream",
          "name": "stdout",
          "text": [
            "1\n",
            "2\n",
            "3\n",
            "4\n",
            "5\n",
            "6\n",
            "7\n",
            "8\n",
            "9\n",
            "10\n"
          ]
        }
      ]
    },
    {
      "cell_type": "code",
      "source": [
        "#Write a Python program to find the sum of all even numbers between 1 and 50\n",
        "sum_even = 0\n",
        "# Loop through numbers from 1 to 50\n",
        "for i in range(1, 51):\n",
        "    if i % 2 == 0:  # Check if the number is even\n",
        "        sum_even += i  # Add the even number to the sum\n",
        "\n",
        "# Print the result\n",
        "print(\"The sum of all even numbers between 1 and 50 is:\", sum_even)"
      ],
      "metadata": {
        "colab": {
          "base_uri": "https://localhost:8080/"
        },
        "id": "SqfUuNXNlpgO",
        "outputId": "8838c3db-f80f-4030-f76c-8ce8846fa8cd"
      },
      "execution_count": 29,
      "outputs": [
        {
          "output_type": "stream",
          "name": "stdout",
          "text": [
            "The sum of all even numbers between 1 and 50 is: 650\n"
          ]
        }
      ]
    },
    {
      "cell_type": "code",
      "source": [
        "#Write a program to reverse a string using a while loop\n",
        "def reverse_string(input_string):\n",
        "    reversed_string = \"\"\n",
        "    index = len(input_string) - 1\n",
        "\n",
        "    while index >= 0:\n",
        "        reversed_string += input_string[index]\n",
        "        index -= 1\n",
        "\n",
        "    return reversed_string\n",
        "\n",
        "# Example usage:\n",
        "input_str = \"hello\"\n",
        "print(reverse_string(input_str))  # Output: 'olleh'"
      ],
      "metadata": {
        "colab": {
          "base_uri": "https://localhost:8080/"
        },
        "id": "QMr-RMhclrkh",
        "outputId": "228c67a3-985e-46b6-a11f-96e7180f9bb4"
      },
      "execution_count": 30,
      "outputs": [
        {
          "output_type": "stream",
          "name": "stdout",
          "text": [
            "olleh\n"
          ]
        }
      ]
    },
    {
      "cell_type": "code",
      "source": [
        "#Write a program to reverse a string using a while loop\n",
        "def reverse_string(input_string):\n",
        "    reversed_string = \"\"\n",
        "    index = len(input_string) - 1\n",
        "\n",
        "    while index >= 0:\n",
        "        reversed_string += input_string[index]\n",
        "        index -= 1\n",
        "\n",
        "    return reversed_string\n",
        "\n",
        "# Example usage:\n",
        "input_str = \"hello\"\n",
        "print(reverse_string(input_str))  # Output: 'olleh'"
      ],
      "metadata": {
        "colab": {
          "base_uri": "https://localhost:8080/"
        },
        "id": "bsYOuRGVlwSF",
        "outputId": "48743eb8-a314-41ed-f1ee-8c93d4020e9a"
      },
      "execution_count": 31,
      "outputs": [
        {
          "output_type": "stream",
          "name": "stdout",
          "text": [
            "olleh\n"
          ]
        }
      ]
    }
  ]
}