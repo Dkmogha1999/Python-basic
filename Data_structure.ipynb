{
  "nbformat": 4,
  "nbformat_minor": 0,
  "metadata": {
    "colab": {
      "provenance": []
    },
    "kernelspec": {
      "name": "python3",
      "display_name": "Python 3"
    },
    "language_info": {
      "name": "python"
    }
  },
  "cells": [
    {
      "cell_type": "markdown",
      "source": [
        "1. What are data structures, and why are they important\n",
        "- Data structures are specific ways of organizing and storing data in a computer so it can be accessed and manipulated efficiently. They provide a framework for managing large amounts of data and enable operations such as retrieval, insertion, deletion, and sorting.\n",
        "\n",
        "In Python, data structures can be categorized into two types:\n",
        "\n",
        "- Built-in Data Structures: Predefined in Python and easy to use.\n",
        "Examples: Lists, Tuples, Dictionaries, Sets.\n",
        "- User-defined Data Structures: Created by programmers to suit specific needs.\n",
        "Examples: Linked Lists, Stacks, Queues, Trees, Graphs.\n",
        "\n",
        "Importance of Data Structures in Python\n",
        "- Efficient Data Management:Data structures allow you to organize data in ways that make it easy to perform operations such as searching, sorting, and modifying.\n",
        "For instance, a dictionary enables quick lookups with key-value pairs.\n",
        "\n",
        "Optimization:\n",
        "\n",
        "- Choosing the right data structure can greatly enhance the efficiency of your program.\n",
        "Example: Using a set instead of a list for membership testing is faster because sets are implemented as hash tables.\n",
        "\n",
        "Simplifies Complex Problems:\n",
        "\n",
        "- They provide reusable solutions to common problems, such as managing hierarchical data with trees or finding relationships in graphs.\n",
        "\n",
        "Core to Algorithms:\n",
        "\n",
        "- Many algorithms are designed to work with specific data structures. For example, binary search works efficiently on sorted arrays.\n",
        "\n",
        "Flexibility and Scalability:\n",
        "\n",
        "- Proper use of data structures ensures that your code can handle larger datasets and more complex operations.\n",
        "\n",
        "\n",
        "2. Explain the difference between mutable and immutable data types with examples?\n",
        "- Mutable Data Types\n",
        "- Definition: Mutable objects can be modified after their creation, meaning their contents (values) can be changed without changing their identity.\n",
        " Examples: Lists, Dictionaries, Sets, User-defined classes.\n",
        "- Characteristics:\n",
        "Support in-place updates.\n",
        "Their memory address (identity) remains the same after modification.\n",
        "\n",
        " Immutable Data Types\n",
        "- Definition: Immutable objects cannot be modified after their creation. Any operation that attempts to change an immutable object creates a new object instead.\n",
        "Examples: Integers, Floats, Strings, Tuples, Frozen Sets.\n",
        "- Characteristics:\n",
        "Changes result in the creation of a new object.\n",
        "Their memory address changes if you attempt to modify them.\n",
        "\n",
        "Example\n",
        "text = \"Hello\"\n",
        "print(id(text))  \n",
        "\n",
        "text = text + \" World\"\n",
        "print(text)  \n",
        "print(id(text))  \n",
        "\n",
        "\n",
        "3.  What are the main differences between lists and tuples in Python?\n",
        "\n",
        "-  1. Mutability\n",
        " - List: Mutable; items can be modified, added, or removed after creation.\n",
        " - Tuple: Immutable; items cannot be changed after creation.\n",
        "- 2. Syntax\n",
        " - List: Defined using square brackets [].\n",
        " - Tuple: Defined using parentheses () or by separating values with commas.\n",
        "- 3. Performance\n",
        " - List: Slightly slower due to the overhead of mutability.\n",
        " - Tuple: Faster because of immutability and fixed size.\n",
        "- 4. Use Cases\n",
        " - List: Suitable for collections of data that may change during program execution.\n",
        " - Tuple: Best for fixed collections of data that should remain constant.\n",
        "- 5. Memory Consumption\n",
        " - List: Requires more memory due to its dynamic nature and ability to grow.\n",
        " - uple: Requires less memory because it is static and immutable.\n",
        "- 6. Functionality\n",
        " - List: Has more methods to support operations like addition, removal, or sorting of elements.\n",
        " - Tuple: Has fewer methods, mainly for accessing and counting elements.\n",
        "- 7. Nesting\n",
        " - List: Mutable elements can be nested and modified.\n",
        " - Tuple: Immutable elements can be nested but remain unmodifiable.\n",
        "- 8. Mutability in Context\n",
        " - List: Ideal for dynamic, changeable data.\n",
        " - Tuple: Preferred for constant, unchangeable data, or as dictionary keys\n",
        "\n",
        "4. Describe how dictionaries store data?\n",
        "- In Python, dictionaries store data as key-value pairs and are implemented using a hash table internally. Here's a detailed explanation of how dictionaries store and manage data:\n",
        "\n",
        "  1. Structure\n",
        "Key-Value Pair: Each item in a dictionary consists of a key and its corresponding value.\n",
        " - Key: A unique identifier that maps to a value. It must be immutable (e.g., strings, numbers, tuples).\n",
        " - Value: The data associated with the key. It can be any type, including mutable types.\n",
        "  2. Hashing\n",
        " - Hash Function: When a key is added to a dictionary, Python applies a hash function to the key to compute a hash value (an integer).\n",
        " - Hash Table: The hash value determines the index in an internal array where the key-value pair is stored.\n",
        " - Hashing ensures constant-time complexity (O(1)) for lookups, insertions, and deletions in the average case.\n",
        "  3. Collision Handling\n",
        " - Hash Collisions: If two keys produce the same hash value (a collision), Python uses a technique called open addressing or maintains a linked list at the index to resolve the conflict.\n",
        " - This allows multiple key-value pairs to coexist without overwriting each other.\n",
        "  4. Dynamic Resizing\n",
        " - Dictionaries dynamically resize as the number of elements grows.\n",
        " - When the dictionary becomes too full (typically 2/3 full), Python creates a larger hash table and rehashes all existing keys to redistribute them.\n",
        "  5. Key Characteristics\n",
        " - Keys Must Be Immutable: This ensures their hash values remain constant throughout the dictionary's lifetime.\n",
        " - Uniqueness: Keys must be unique; if you assign a value to an existing key, it overwrites the previous value.\n",
        "  6. Efficiency\n",
        " - Lookup Speed: Direct access using hash values makes retrieving values by their keys very fast.\n",
        " - Memory Overhead: Dictionaries use extra memory to maintain the hash table, but this tradeoff provides quick operations.\n",
        "5. Why might you use a set instead of a list in Python?\n",
        "- You might use a set instead of a list in Python when you need to ensure that all elements are unique, as sets automatically discard duplicates, unlike lists. Sets are also more efficient for membership testing, offering constant-time complexity\n",
        "𝑂\n",
        "(\n",
        "1\n",
        ")\n",
        "O(1) for operations like checking if an element exists, compared to the linear-time complexity\n",
        "𝑂\n",
        "(\n",
        "𝑛\n",
        ")\n",
        "O(n) of lists. Additionally, sets provide built-in support for mathematical set operations such as union, intersection, and difference, which are both faster and more convenient than implementing similar functionality with lists. Sets are particularly useful when working with collections of data where uniqueness, fast lookups, and efficient operations on relationships between elements are critical. However, sets are unordered and do not allow indexing or slicing, which makes them less suitable if maintaining order or sequential access is required.\n",
        "6. What is a string in Python, and how is it different from a list?\n",
        "- A string in Python is a sequence of characters enclosed within single quotes ('), double quotes (\"), or triple quotes (''' or \"\"\"). Strings are used to represent and manipulate text data, and they are immutable, meaning their content cannot be changed after creation.\n",
        "\n",
        "In contrast, a list in Python is a sequence of elements that can hold items of different types, such as integers, floats, strings, or even other lists. Lists are mutable, meaning their content can be modified by adding, removing, or changing elements.\n",
        "\n",
        "- Key Differences Between Strings and Lists:\n",
        " - Data Type: Strings are specifically for text (characters), while lists can store any type of object.\n",
        " - Mutability: Strings are immutable, whereas lists are mutable and can be altered.\n",
        " - Element Type: A string's elements are always individual characters, while a list's elements can be any data type.\n",
        " - Operations: Strings have operations focused on text processing (e.g., concatenation, splitting, replacing), while lists have more general methods for managing collections (e.g., appending, removing, sorting).\n",
        " - Syntax: Strings are enclosed in quotes, while lists are enclosed in square brackets ([]).\n",
        "\n",
        " For example, if you want to modify a part of a string, you would need to create a new string, but with a list, you can modify it directly. Additionally, lists allow mixed data types and complex operations like nesting, which strings do not support.\n",
        "\n",
        "7. How do tuples ensure data integrity in Python?\n",
        "\n",
        "Tuples ensure data integrity in Python primarily through their immutability. Once a tuple is created, its contents cannot be modified, making it a reliable way to store data that must remain constant throughout the program. Here’s how tuples support data integrity:\n",
        "\n",
        " 1. Immutability -\n",
        "Tuples are immutable, meaning their elements cannot be added, removed, or altered. This guarantees that the data remains unchanged, preventing accidental or unauthorized modifications.\n",
        "Use Case: Ideal for storing configuration settings, fixed constants, or any data that should not be altered during program execution.\n",
        " 2. Hashability -\n",
        "Because tuples are immutable, they can be used as keys in dictionaries or elements in sets, where data integrity and uniqueness are critical. This ensures that once a tuple is used as a key, its value remains consistent.\n",
        " 3. Predictable Behavior -\n",
        "Since tuples cannot change, their state is predictable throughout the program. This makes them reliable for maintaining consistent data, especially when passing data between functions or threads.\n",
        " 4. Safeguard Against Errors -\n",
        "Tuples inherently protect against unintended side effects caused by modifying data. For instance, if you pass a tuple to a function, you can be confident it won't be altered within the function, unlike a list.\n",
        " 5. Lightweight and Efficient -\n",
        "Tuples consume less memory and have a simpler structure compared to lists, reducing the likelihood of performance-related errors and supporting efficient handling of static data.\n",
        "\n",
        "8. What is a hash table, and how does it relate to dictionaries in Python?\n",
        "\n",
        "A hash table is a data structure used to store key-value pairs. It uses a hash function to convert a key into an index in an array or table, where the associated value is stored. This allows for fast, constant-time complexity\n",
        "𝑂\n",
        "(\n",
        "1\n",
        ")\n",
        "O(1) for lookup, insertion, and deletion operations on average.\n",
        "\n",
        "- How a Hash Table Works:\n",
        " 1. Hash Function: The hash function processes the key (e.g., a string or integer) and returns a hash value, typically an integer.\n",
        " 2. Indexing: The hash value is then used to determine the index in the underlying array where the value associated with the key will be stored.\n",
        " 3. Handling Collisions: If two keys produce the same hash value (collision), the hash table must handle this. Common techniques include chaining (storing multiple items at the same index in a list or linked list) and open addressing (finding the next available index).\n",
        "- Relation to Python Dictionaries:\n",
        "In Python, dictionaries are implemented using hash tables. When you store a key-value pair in a dictionary, Python uses a hash table behind the scenes:\n",
        "\n",
        "- Keys: Python applies a hash function to the key to determine where to store the associated value.\n",
        "- Efficiency: This allows Python dictionaries to provide fast access, insertion, and deletion operations (on average, in constant time\n",
        "𝑂\n",
        "(\n",
        "1\n",
        ")\n",
        "O(1)).\n",
        "- Collisions: If two keys generate the same hash value, Python's dictionary implementation resolves this collision using techniques like open addressing.\n",
        "Thus, dictionaries in Python use hash tables to manage key-value mappings efficiently, making them one of the most performant data structures for such operations.\n",
        "\n",
        "9. Can lists contain different data types in Python?\n",
        "- Yes, lists in Python can contain different data types. Unlike arrays in some other programming languages that require elements to be of the same type, Python lists are heterogeneous, meaning they can store a mix of various data types, such as integers, strings, floats, tuples, or even other lists.\n",
        "\n",
        "10.  Explain why strings are immutable in Python?\n",
        "\n",
        "- In Python, strings are immutable because this design choice optimizes memory management, performance, and safety. When a string is created, it cannot be changed, which allows Python to efficiently reuse memory through string interning, where identical strings share the same memory location. This immutability also ensures that strings are predictable and thread-safe, as their contents cannot be modified during program execution, preventing unintended side effects. Additionally, immutability makes strings hashable, allowing them to be used as keys in dictionaries or as elements in sets. Overall, immutable strings simplify the language's design, making them easier to work with and reducing potential errors related to unintended data modifications.\n",
        "\n",
        "11. What advantages do dictionaries offer over lists for certain tasks?\n",
        "\n",
        "Dictionaries offer several advantages over lists, particularly when it comes to tasks that require fast lookups, structured data storage, or associating values with specific keys. Here's a breakdown of why dictionaries might be more useful than lists in certain situations:\n",
        "\n",
        "Key-Based Access:\n",
        "\n",
        "- Dictionaries: You can access values directly by using unique keys. This is efficient because dictionary lookups are done in constant time (O(1)) on average, making them much faster for key-based retrieval than lists.\n",
        "- Lists: To retrieve a value, you need to search through the list, which is slower (O(n) time complexity) if you don't know the index.\n",
        "\n",
        "Unordered Data:\n",
        "\n",
        "- Dictionaries: They store data as key-value pairs, and the values are associated with specific keys. This is particularly useful when you need to group related information.\n",
        "- Lists: They store elements in a linear sequence, which doesn’t inherently allow for associating one value with another, making it harder to represent complex relationships between data.\n",
        "\n",
        "No Duplicates in Keys:\n",
        "\n",
        "- Dictionaries: A dictionary allows only one unique key, which ensures that each entry is uniquely identifiable by its key. If you try to add a new entry with the same key, it will overwrite the old one, preventing duplicates.\n",
        "- Lists: Lists can contain duplicate values, which might not always be desirable when you want unique entries.\n",
        "\n",
        "Efficient Updates:\n",
        "\n",
        "- Dictionaries: You can quickly update values associated with a specific key in O(1) time. This makes dictionaries ideal for tasks where the values need to be modified frequently.\n",
        "- Lists: To update a list element, you need to either know the index or iterate through the list to find the element, which is less efficient than using a dictionary.\n",
        "\n",
        "Structured Data Representation:\n",
        "\n",
        "- Dictionaries: Since data is stored as key-value pairs, dictionaries provide a more natural way to represent structured data (e.g., an address book, database records, or configurations).\n",
        "- Lists: Lists don't support such natural pairings; if you need to associate values, you would either use parallel lists (which is cumbersome) or use indexes, which can be confusing.\n",
        "\n",
        "Faster Membership Tests:\n",
        "\n",
        "- Dictionaries: Checking if a key exists in a dictionary is generally faster (O(1) average case) because of the way dictionaries are implemented (hash tables).\n",
        "- Lists: Checking if an element exists in a list requires searching through the list, which takes O(n) time.\n",
        "\n",
        "12.\n",
        "\n",
        "A tuple is preferable over a list in scenarios where immutability and data integrity are important. Since tuples are immutable (i.e., once created, their elements cannot be changed), they are ideal in situations where you want to ensure that the data cannot be accidentally altered.\n",
        "\n",
        "Scenario: Storing Coordinates for a Geographic Location\n",
        "Imagine you are building an application that tracks geographic coordinates (latitude and longitude) for different locations on a map. Each coordinate pair should remain constant throughout the program because the geographical location shouldn't change once it's defined.\n",
        "\n",
        "Why Use a Tuple?\n",
        "\n",
        "- Immutability:\n",
        "\n",
        "Since the coordinates (latitude, longitude) of a specific location should not change once defined, using a tuple ensures that these values remain constant. If someone tries to modify the coordinates later, Python will raise an error, helping to protect the data's integrity.\n",
        "\n",
        "- Semantic Meaning:\n",
        "\n",
        "Using a tuple here makes it clear to anyone reading the code that the data should be treated as a fixed, unchangeable pair of values. This is more semantically appropriate than a list, which implies that the data may be changed or manipulated over time.\n",
        "- Efficiency:\n",
        "\n",
        "Tuples are more memory-efficient than lists because they are immutable. If you need to store a large number of coordinates, using tuples can save memory compared to lists.\n",
        "\n",
        "- Hashability:\n",
        "\n",
        "Tuples are hashable, which means they can be used as keys in dictionaries or elements in sets. If you want to use the coordinates as a key in a dictionary (e.g., to look up associated information about a location), a tuple would be the ideal choice.\n",
        "13. How do sets handle duplicate values in Python?\n",
        "\n",
        "In Python, sets automatically handle duplicates by ensuring that each element is unique. When an item is added to a set, it checks if the item is already present. If the item is a duplicate, it is not added again, preserving the set's property of containing only unique elements. This behavior is facilitated by the underlying hashing mechanism of sets. As a result, sets automatically eliminate duplicates and do not store any repeated values. Additionally, sets are unordered collections, so the order of elements is not guaranteed.\n",
        "\n",
        "14. How does the “in” keyword work differently for lists and dictionaries?\n",
        "- The in keyword behaves differently for lists and dictionaries:\n",
        "\n",
        " - In Lists: It checks for the presence of an element in the list. The search is done by iterating through the entire list, which takes linear time (O(n)).\n",
        "\n",
        " - In Dictionaries: It checks for the presence of a key in the dictionary. The search is performed using the dictionary's internal hash table, which allows for faster lookups (average time complexity of O(1)).\n",
        "\n",
        "15. Can you modify the elements of a tuple? Explain why or why not?\n",
        "\n",
        "- No, you cannot modify the elements of a tuple once it is created. This is because tuples are immutable in Python. Immutability means that once a tuple is instantiated, its content cannot be altered—no elements can be added, removed, or changed.\n",
        "\n",
        "This behavior is by design to ensure data integrity. Immutability makes tuples more efficient for certain tasks, such as using them as dictionary keys, as their content cannot change once they are used. However, if the tuple contains mutable elements (like lists), the mutable elements themselves can be modified, but the structure of the tuple (the sequence of elements) cannot be changed.\n",
        "\n",
        "16. What is a nested dictionary, and give an example of its use case?\n",
        "- A nested dictionary is a dictionary where the values associated with keys are themselves dictionaries. This allows you to represent hierarchical or multi-level data structures, where each key can point to another dictionary containing more detailed information. Nested dictionaries are useful for storing and organizing complex data that requires multiple levels of categorization or attributes for each entity.\n",
        "\n",
        "In a nested dictionary, you can access data at various levels, making it ideal for tasks that involve managing structured information like configurations, records, or related entities with multiple attributes.\n",
        "\n",
        "17.  Describe the time complexity of accessing elements in a dictionary?\n",
        "- The time complexity of accessing elements in a dictionary in Python is generally O(1), or constant time, on average. This is due to the underlying implementation of dictionaries, which use hash tables.\n",
        "\n",
        "Here’s how it works:\n",
        "\n",
        "- When you access a value using a key, Python computes the hash value of the key.\n",
        "- This hash value determines the index in the hash table where the corresponding value is stored.\n",
        "- Since hash lookups are direct and do not require iteration through all elements, the operation takes constant time on average.\n",
        "\n",
        "\n",
        "However, in the case of hash collisions (when two keys have the same hash value), Python handles it through techniques like chaining or open addressing, which might slightly affect performance. In the worst case (for example, when many keys have the same hash), the time complexity can degrade to O(n), where n is the number of elements. But, this is a rare scenario, and with a well-distributed hash function, dictionary access remains efficient with an average time complexity of O(1).\n",
        "\n",
        "18. In what situations are lists preferred over dictionaries?\n",
        "- Lists are preferred over dictionaries in situations where:\n",
        "\n",
        "Ordered Collection:\n",
        "\n",
        "- If you need to maintain the order of elements as they were added or need to access elements by their position (index), lists are ideal. Dictionaries are unordered (prior to Python 3.7), and while they now preserve insertion order, lists still offer direct indexing and positional data access.\n",
        "\n",
        "Simple, Unkeyed Data:\n",
        "\n",
        "- When the data is just a collection of items without any need for unique identifiers (keys), lists are more appropriate. For example, if you have a collection of items (e.g., numbers, strings) that don’t require association with a key, a list is simpler and more intuitive.\n",
        "\n",
        "Frequent Iteration or Traversal:\n",
        "\n",
        "- If you need to loop through elements or perform operations on all items in a sequence, lists are efficient for iteration. Although dictionaries can be iterated over, lists are naturally designed for this kind of operation since they store elements in a linear, indexed sequence.\n",
        "\n",
        "Fixed Size with Sequential Data:\n",
        "\n",
        "- Lists are useful when the number of elements is fixed or can grow and shrink dynamically and when you want to append, remove, or modify items at the end or in the middle of the collection.\n",
        "\n",
        "When Lookup by Index is Needed:\n",
        "\n",
        "- If your use case requires fast access based on a position in the sequence (like list[5]), lists are the better choice because they are designed to handle direct index-based lookups efficiently.\n",
        "\n",
        "Memory Efficiency for Small Data:\n",
        "\n",
        "- Lists can be more memory-efficient for storing small amounts of homogeneous data (data that doesn’t need key-value pairs), as dictionaries have additional overhead due to the hashing mechanism required for key lookups.\n",
        "\n",
        "\n",
        "19. Why are dictionaries considered unordered, and how does that affect data retrieval?\n",
        "- Dictionaries in Python were historically considered unordered because, before Python 3.7, they did not guarantee the order in which elements were stored or iterated over. This lack of ordering was due to the internal implementation of dictionaries, which used hash tables to store key-value pairs. The hash table allowed for efficient lookups, insertions, and deletions, but the elements were not stored in a predictable order.\n",
        "\n",
        "20.\n",
        "\n",
        "The key difference between a list and a dictionary in terms of data retrieval lies in how you access the data and the efficiency of those access operations.\n",
        "\n",
        " 1. Data Retrieval in Lists:\n",
        " - Index-Based Access: In a list, data is retrieved based on its position or index. You access an element by providing its index, which is an integer representing its position in the list (starting from 0).\n",
        " - Order Matters: Lists are ordered collections, so the index is crucial for retrieval. The order of elements is maintained, and you can directly access elements using their index.\n",
        " - Time Complexity: The time complexity for retrieving an element by index in a list is O(1), i.e., constant time. This means that accessing an element at a known index is very fast, regardless of the size of the list.\n",
        " 2. Data Retrieval in Dictionaries:\n",
        " - Key-Based Access: In a dictionary, data is retrieved using a key. The key is a unique identifier associated with a value, and you access the corresponding value by specifying the key.\n",
        " - No Order Requirement (Pre-Python 3.7): Before Python 3.7, dictionaries were unordered collections, so the order in which items were added did not affect data retrieval. Since Python 3.7, dictionaries maintain the insertion order, but keys are still the primary means of access, not positions.\n",
        " -  Time Complexity: The time complexity for retrieving a value by key in a dictionary is O(1) on average, i.e., constant time. This makes dictionary lookups very fast, as they are implemented using hash tables.\n",
        "Key Differences in Data Retrieval:\n",
        " - Lists: Access is done by index, and the index corresponds to the position of an item in the list. The retrieval is based on the item’s position, and you cannot directly access an item using a unique identifier other than its index.\n",
        "\n",
        " - Dictionaries: Access is done by key, and you retrieve the corresponding value for a given key. The key is unique, and you can retrieve values efficiently without needing to know the position of the item in the collection.\n",
        "\n",
        "\n"
      ],
      "metadata": {
        "id": "o6k4Ai14hx-T"
      }
    },
    {
      "cell_type": "code",
      "source": [
        "# Write a code to create a string with your name and print it?\n",
        "name = \"Dikshant\"\n",
        "print(name)"
      ],
      "metadata": {
        "colab": {
          "base_uri": "https://localhost:8080/"
        },
        "id": "I9tL9jJvxVZp",
        "outputId": "ec6bbb65-d8d4-4852-9ba9-369e4248b181"
      },
      "execution_count": 1,
      "outputs": [
        {
          "output_type": "stream",
          "name": "stdout",
          "text": [
            "Dikshant\n"
          ]
        }
      ]
    },
    {
      "cell_type": "code",
      "source": [
        "# Write a code to find the length of the string \"Hello World\"?\n",
        "string = \"Hello World\"\n",
        "length = len(string)\n",
        "print(length)"
      ],
      "metadata": {
        "colab": {
          "base_uri": "https://localhost:8080/"
        },
        "id": "JWKySYawxZso",
        "outputId": "bd806d62-a693-4de9-b582-65f326269ab5"
      },
      "execution_count": 2,
      "outputs": [
        {
          "output_type": "stream",
          "name": "stdout",
          "text": [
            "11\n"
          ]
        }
      ]
    },
    {
      "cell_type": "code",
      "source": [
        "#Write a code to slice the first 3 characters from the string \"Python Programming\"?\n",
        "string = \"Python Programming\"\n",
        "sliced_string = string[:3]\n",
        "print(sliced_string)"
      ],
      "metadata": {
        "colab": {
          "base_uri": "https://localhost:8080/"
        },
        "id": "NOOjAlABxfPl",
        "outputId": "594513ef-5fce-4fbe-fb35-9b63df991e03"
      },
      "execution_count": 3,
      "outputs": [
        {
          "output_type": "stream",
          "name": "stdout",
          "text": [
            "Pyt\n"
          ]
        }
      ]
    },
    {
      "cell_type": "code",
      "source": [
        "#Write a code to convert the string \"hello\" to uppercase?\n",
        "string = \"hello\"\n",
        "uppercase_string = string.upper()\n",
        "print(uppercase_string)"
      ],
      "metadata": {
        "colab": {
          "base_uri": "https://localhost:8080/"
        },
        "id": "vJWIAPBwxi5-",
        "outputId": "1fc68864-aa64-4680-d2f0-740d824dc3e1"
      },
      "execution_count": 4,
      "outputs": [
        {
          "output_type": "stream",
          "name": "stdout",
          "text": [
            "HELLO\n"
          ]
        }
      ]
    },
    {
      "cell_type": "code",
      "source": [
        "#Write a code to replace the word \"apple\" with \"orange\" in the string \"I like apple\"?\n",
        "string = \"I like apple\"\n",
        "new_string = string.replace(\"apple\", \"orange\")\n",
        "print(new_string)"
      ],
      "metadata": {
        "colab": {
          "base_uri": "https://localhost:8080/"
        },
        "id": "KkPYFEttxl0r",
        "outputId": "a62857ee-1bcf-493b-d22d-72a4d2ed2310"
      },
      "execution_count": 5,
      "outputs": [
        {
          "output_type": "stream",
          "name": "stdout",
          "text": [
            "I like orange\n"
          ]
        }
      ]
    },
    {
      "cell_type": "code",
      "source": [
        "#Write a code to create a list with numbers 1 to 5 and print it?\n",
        "numbers = [1, 2, 3, 4, 5]\n",
        "print(numbers)"
      ],
      "metadata": {
        "colab": {
          "base_uri": "https://localhost:8080/"
        },
        "id": "6xroSb4-xonV",
        "outputId": "eea4d46a-86a3-48db-aa48-267cf13be44a"
      },
      "execution_count": 6,
      "outputs": [
        {
          "output_type": "stream",
          "name": "stdout",
          "text": [
            "[1, 2, 3, 4, 5]\n"
          ]
        }
      ]
    },
    {
      "cell_type": "code",
      "source": [
        "#Write a code to append the number 10 to the list [1, 2, 3, 4]?\n",
        "numbers = [1, 2, 3, 4]\n",
        "numbers.append(10)\n",
        "print(numbers)"
      ],
      "metadata": {
        "colab": {
          "base_uri": "https://localhost:8080/"
        },
        "id": "PnQUIHvMxq92",
        "outputId": "1e3a8ab1-2617-4376-94ea-cafdd480b390"
      },
      "execution_count": 7,
      "outputs": [
        {
          "output_type": "stream",
          "name": "stdout",
          "text": [
            "[1, 2, 3, 4, 10]\n"
          ]
        }
      ]
    },
    {
      "cell_type": "code",
      "source": [
        "#Write a code to remove the number 3 from the list [1, 2, 3, 4, 5]?\n",
        "numbers = [1, 2, 3, 4, 5]\n",
        "numbers.remove(3)\n",
        "print(numbers)"
      ],
      "metadata": {
        "colab": {
          "base_uri": "https://localhost:8080/"
        },
        "id": "0PPk4o6pxuCv",
        "outputId": "aa1cd773-f628-4b44-9de1-670f43757eca"
      },
      "execution_count": 8,
      "outputs": [
        {
          "output_type": "stream",
          "name": "stdout",
          "text": [
            "[1, 2, 4, 5]\n"
          ]
        }
      ]
    },
    {
      "cell_type": "code",
      "source": [
        "# Write a code to access the second element in the list ['a', 'b', 'c', 'd']?\n",
        "letters = ['a', 'b', 'c', 'd']\n",
        "second_element = letters[1]\n",
        "print(second_element)"
      ],
      "metadata": {
        "colab": {
          "base_uri": "https://localhost:8080/"
        },
        "id": "6AxBdDZ8x259",
        "outputId": "7fa4c42b-8bcd-4c6e-b564-85ed883837a9"
      },
      "execution_count": 9,
      "outputs": [
        {
          "output_type": "stream",
          "name": "stdout",
          "text": [
            "b\n"
          ]
        }
      ]
    },
    {
      "cell_type": "code",
      "source": [
        "#Write a code to reverse the list [10, 20, 30, 40, 50].\n",
        "numbers = [10, 20, 30, 40, 50]\n",
        "reversed_numbers = numbers[::-1]\n",
        "print(reversed_numbers)"
      ],
      "metadata": {
        "colab": {
          "base_uri": "https://localhost:8080/"
        },
        "id": "ulgK3mxdx5tF",
        "outputId": "eb184480-0627-4e92-8ba1-333bb7194689"
      },
      "execution_count": 10,
      "outputs": [
        {
          "output_type": "stream",
          "name": "stdout",
          "text": [
            "[50, 40, 30, 20, 10]\n"
          ]
        }
      ]
    },
    {
      "cell_type": "code",
      "source": [
        "#Write a code to create a tuple with the elements 10, 20, 30 and print it\n",
        "my_tuple = (10, 20, 30)\n",
        "print(my_tuple)"
      ],
      "metadata": {
        "colab": {
          "base_uri": "https://localhost:8080/"
        },
        "id": "4zIGC4Grx9Lf",
        "outputId": "958f1fd4-6ff2-46d5-fdf6-d4c1fa4db7bb"
      },
      "execution_count": 11,
      "outputs": [
        {
          "output_type": "stream",
          "name": "stdout",
          "text": [
            "(10, 20, 30)\n"
          ]
        }
      ]
    },
    {
      "cell_type": "code",
      "source": [
        "#Write a code to access the first element of the tuple ('apple', 'banana', 'cherry')?\n",
        "my_tuple = ('apple', 'banana', 'cherry')\n",
        "first_element = my_tuple[0]\n",
        "print(first_element)"
      ],
      "metadata": {
        "colab": {
          "base_uri": "https://localhost:8080/"
        },
        "id": "sYz8mxEiyA9a",
        "outputId": "568f3e27-5a41-4566-d131-9727cd97a233"
      },
      "execution_count": 12,
      "outputs": [
        {
          "output_type": "stream",
          "name": "stdout",
          "text": [
            "apple\n"
          ]
        }
      ]
    },
    {
      "cell_type": "code",
      "source": [
        "#Write a code to count how many times the number 2 appears in the tuple (1, 2, 3, 2, 4, 2)\n",
        "my_tuple = (1, 2, 3, 2, 4, 2)\n",
        "count = my_tuple.count(2)\n",
        "print(count)"
      ],
      "metadata": {
        "colab": {
          "base_uri": "https://localhost:8080/"
        },
        "id": "xconbJUUyD2C",
        "outputId": "acb23829-3753-4ee5-a2e2-3f6563991edb"
      },
      "execution_count": 13,
      "outputs": [
        {
          "output_type": "stream",
          "name": "stdout",
          "text": [
            "3\n"
          ]
        }
      ]
    },
    {
      "cell_type": "code",
      "source": [
        "# Write a code to find the index of the element \"cat\" in the tuple ('dog', 'cat', 'rabbit').\n",
        "my_tuple = ('dog', 'cat', 'rabbit')\n",
        "index = my_tuple.index('cat')\n",
        "print(index)"
      ],
      "metadata": {
        "colab": {
          "base_uri": "https://localhost:8080/"
        },
        "id": "4zywgSEYyGo7",
        "outputId": "627dfc3e-98f9-4563-d8ea-e66864a9b0aa"
      },
      "execution_count": 14,
      "outputs": [
        {
          "output_type": "stream",
          "name": "stdout",
          "text": [
            "1\n"
          ]
        }
      ]
    },
    {
      "cell_type": "code",
      "source": [
        "# Write a code to check if the element \"banana\" is in the tuple ('apple', 'orange', 'banana').\n",
        "my_tuple = ('apple', 'orange', 'banana')\n",
        "is_banana_in_tuple = 'banana' in my_tuple\n",
        "print(is_banana_in_tuple)"
      ],
      "metadata": {
        "colab": {
          "base_uri": "https://localhost:8080/"
        },
        "id": "wDcIekeryJ5y",
        "outputId": "09a9de97-8a3b-4ef2-c5ea-e0572e9dc84b"
      },
      "execution_count": 15,
      "outputs": [
        {
          "output_type": "stream",
          "name": "stdout",
          "text": [
            "True\n"
          ]
        }
      ]
    },
    {
      "cell_type": "code",
      "source": [
        "# Write a code to create a set with the elements 1, 2, 3, 4, 5 and print it.\n",
        "my_set = {1, 2, 3, 4, 5}\n",
        "print(my_set)"
      ],
      "metadata": {
        "colab": {
          "base_uri": "https://localhost:8080/"
        },
        "id": "JLsGnC7AyLF0",
        "outputId": "8dc92897-6eef-498c-d7ea-9c6f048bfd4e"
      },
      "execution_count": 16,
      "outputs": [
        {
          "output_type": "stream",
          "name": "stdout",
          "text": [
            "{1, 2, 3, 4, 5}\n"
          ]
        }
      ]
    },
    {
      "cell_type": "code",
      "source": [
        "#Write a code to add the element 6 to the set {1, 2, 3, 4}?\n",
        "my_set = {1, 2, 3, 4}\n",
        "my_set.add(6)\n",
        "print(my_set)"
      ],
      "metadata": {
        "colab": {
          "base_uri": "https://localhost:8080/"
        },
        "id": "AtsMnf5ayP6a",
        "outputId": "37b86617-eb7e-4018-84b5-55f7377a58c0"
      },
      "execution_count": 17,
      "outputs": [
        {
          "output_type": "stream",
          "name": "stdout",
          "text": [
            "{1, 2, 3, 4, 6}\n"
          ]
        }
      ]
    },
    {
      "cell_type": "code",
      "source": [
        "# Write a code to create a tuple with the elements 10, 20, 30 and print it\n",
        "my_tuple = (10, 20, 30)\n",
        "print(my_tuple)"
      ],
      "metadata": {
        "colab": {
          "base_uri": "https://localhost:8080/"
        },
        "id": "M1X2-96ZyScZ",
        "outputId": "c0f669ef-d610-4857-8ef1-22f13448002e"
      },
      "execution_count": 18,
      "outputs": [
        {
          "output_type": "stream",
          "name": "stdout",
          "text": [
            "(10, 20, 30)\n"
          ]
        }
      ]
    },
    {
      "cell_type": "code",
      "source": [
        "#Write a code to access the first element of the tuple ('apple', 'banana', 'cherry').\n",
        "my_tuple = ('apple', 'banana', 'cherry')\n",
        "first_element = my_tuple[0]\n",
        "print(first_element)"
      ],
      "metadata": {
        "colab": {
          "base_uri": "https://localhost:8080/"
        },
        "id": "k7d-A2tfyU7z",
        "outputId": "a6d7681c-e34b-4d99-b425-f6368f1bd807"
      },
      "execution_count": 19,
      "outputs": [
        {
          "output_type": "stream",
          "name": "stdout",
          "text": [
            "apple\n"
          ]
        }
      ]
    },
    {
      "cell_type": "code",
      "source": [
        "# Write a code to count how many times the number 2 appears in the tuple (1, 2, 3, 2, 4, 2)?\n",
        "my_tuple = (1, 2, 3, 2, 4, 2)\n",
        "count = my_tuple.count(2)\n",
        "print(count)"
      ],
      "metadata": {
        "colab": {
          "base_uri": "https://localhost:8080/"
        },
        "id": "ApwbZN7cyXNF",
        "outputId": "641611a4-0575-4907-f511-a3ff877dc95b"
      },
      "execution_count": 20,
      "outputs": [
        {
          "output_type": "stream",
          "name": "stdout",
          "text": [
            "3\n"
          ]
        }
      ]
    },
    {
      "cell_type": "code",
      "source": [
        "# Write a code to find the index of the element \"cat\" in the tuple ('dog', 'cat', 'rabbit')\n",
        "my_tuple = ('dog', 'cat', 'rabbit')\n",
        "index = my_tuple.index('cat')\n",
        "print(index)"
      ],
      "metadata": {
        "colab": {
          "base_uri": "https://localhost:8080/"
        },
        "id": "5EXHlej1yaOl",
        "outputId": "28eff427-c78c-4ce2-a7d8-6f3e037b83d4"
      },
      "execution_count": 21,
      "outputs": [
        {
          "output_type": "stream",
          "name": "stdout",
          "text": [
            "1\n"
          ]
        }
      ]
    },
    {
      "cell_type": "code",
      "source": [
        "#Write a code to check if the element \"banana\" is in the tuple ('apple', 'orange', 'banana').\n",
        "my_tuple = ('apple', 'orange', 'banana')\n",
        "is_banana_in_tuple = 'banana' in my_tuple\n",
        "print(is_banana_in_tuple)"
      ],
      "metadata": {
        "colab": {
          "base_uri": "https://localhost:8080/"
        },
        "id": "ZPkPUOT9ycZY",
        "outputId": "5127372c-6b9b-43bc-e40a-1c33d6dd35f6"
      },
      "execution_count": 22,
      "outputs": [
        {
          "output_type": "stream",
          "name": "stdout",
          "text": [
            "True\n"
          ]
        }
      ]
    },
    {
      "cell_type": "code",
      "source": [
        "#Write a code to create a set with the elements 1, 2, 3, 4, 5 and print it?\n",
        "my_set = {1, 2, 3, 4, 5}\n",
        "print(my_set)"
      ],
      "metadata": {
        "colab": {
          "base_uri": "https://localhost:8080/"
        },
        "id": "phPVslu6yfM1",
        "outputId": "507d699e-fb3d-4617-85c6-b8f2c06dfc15"
      },
      "execution_count": 23,
      "outputs": [
        {
          "output_type": "stream",
          "name": "stdout",
          "text": [
            "{1, 2, 3, 4, 5}\n"
          ]
        }
      ]
    },
    {
      "cell_type": "code",
      "source": [
        "# Write a code to add the element 6 to the set {1, 2, 3, 4}.\n",
        "my_set = {1, 2, 3, 4}\n",
        "my_set.add(6)\n",
        "print(my_set)"
      ],
      "metadata": {
        "colab": {
          "base_uri": "https://localhost:8080/"
        },
        "id": "vjhO35GxyidI",
        "outputId": "7bc14814-9b68-49a0-f2b5-7e00a377b4e0"
      },
      "execution_count": 24,
      "outputs": [
        {
          "output_type": "stream",
          "name": "stdout",
          "text": [
            "{1, 2, 3, 4, 6}\n"
          ]
        }
      ]
    }
  ]
}